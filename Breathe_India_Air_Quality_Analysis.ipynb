{
 "cells": [
  {
   "cell_type": "markdown",
   "id": "ff20fc01",
   "metadata": {},
   "source": [
    "# Breathe India: A Data-Driven Exploration of Air Quality Across Indian Cities\n",
    "\n",
    "*By [Your Name], Aspiring Data Scientist*\n",
    "\n",
    "---\n",
    "\n",
    "## Introduction\n",
    "\n",
    "Air pollution is a silent crisis affecting millions across India. As an aspiring data scientist and a concerned citizen, I wanted to dig deep into real air quality data to uncover patterns, highlight pollution hotspots, and tell a compelling story with data. This notebook is my journey through the numbers, visualizations, and insights that matter.\n",
    "\n",
    "---\n",
    "\n",
    "## Project Motivation\n",
    "\n",
    "- Understand the state of air quality across Indian cities\n",
    "- Practice and showcase data science skills: cleaning, EDA, visualization, and storytelling\n",
    "- Share actionable insights and raise awareness\n"
   ]
  },
  {
   "cell_type": "code",
   "execution_count": null,
   "id": "4072ecc5",
   "metadata": {},
   "outputs": [],
   "source": [
    "# Import Required Libraries\n",
    "import pandas as pd\n",
    "import numpy as np\n",
    "import matplotlib.pyplot as plt\n",
    "import seaborn as sns\n",
    "import plotly.express as px\n",
    "import plotly.io as pio\n",
    "import warnings\n",
    "warnings.filterwarnings('ignore')\n",
    "plt.style.use('seaborn-vivid')"
   ]
  },
  {
   "cell_type": "code",
   "execution_count": null,
   "id": "e920fae0",
   "metadata": {},
   "outputs": [],
   "source": [
    "# Load the dataset\n",
    "file_path = 'india_air_quality_2025.csv'\n",
    "df = pd.read_csv(file_path)\n",
    "df.head()"
   ]
  },
  {
   "cell_type": "markdown",
   "id": "2df2b640",
   "metadata": {},
   "source": [
    "## Data Overview & First Impressions\n",
    "\n",
    "Before diving in, let's take a look at the data. What stories might these columns tell? What surprises await in the numbers?"
   ]
  },
  {
   "cell_type": "code",
   "execution_count": null,
   "id": "bd8d9011",
   "metadata": {},
   "outputs": [],
   "source": [
    "# DataFrame info and missing values\n",
    "print('--- DataFrame Info ---')\n",
    "df.info()\n",
    "print('\\n--- Describe ---')\n",
    "display(df.describe(include='all'))\n",
    "print('\\n--- Missing Values by Column ---')\n",
    "display(df.isnull().sum())"
   ]
  },
  {
   "cell_type": "markdown",
   "id": "7265a5f3",
   "metadata": {},
   "source": [
    "## Data Cleaning\n",
    "\n",
    "Real-world data is messy! Let's clean up types and handle missing values so our analysis is trustworthy. I want to make sure every number tells the truth."
   ]
  },
  {
   "cell_type": "code",
   "execution_count": null,
   "id": "4a60d821",
   "metadata": {},
   "outputs": [],
   "source": [
    "# Convert columns to correct types and handle missing values\n",
    "for col in ['pollutant_avg', 'pollutant_min', 'pollutant_max']:\n",
    "    df[col] = pd.to_numeric(df[col], errors='coerce')\n",
    "df['last_update'] = pd.to_datetime(df['last_update'], errors='coerce')\n",
    "df['pollutant_avg'] = df['pollutant_avg'].fillna(df['pollutant_avg'].mean())\n",
    "# Optional: fill other missing values or drop rows if needed\n",
    "df.head()"
   ]
  },
  {
   "cell_type": "markdown",
   "id": "acd8cb6b",
   "metadata": {},
   "source": [
    "## Exploratory Data Analysis (EDA)\n",
    "\n",
    "Let's explore the data visually and statistically. What are the most polluted cities? How do pollutants vary across India? What patterns and surprises can we find?"
   ]
  },
  {
   "cell_type": "code",
   "execution_count": null,
   "id": "8d96e2ba",
   "metadata": {},
   "outputs": [],
   "source": [
    "# PM2.5 Distribution (Static and Interactive)\n",
    "pm25 = df[df['pollutant_id'].str.upper() == 'PM2.5']\n",
    "plt.figure(figsize=(10,6))\n",
    "plt.hist(pm25['pollutant_avg'], bins=30, color='#e74c3c', edgecolor='black', alpha=0.7)\n",
    "plt.title('Distribution of PM2.5 Across All Cities', fontsize=16)\n",
    "plt.xlabel('PM2.5 (µg/m³)', fontsize=12)\n",
    "plt.ylabel('Frequency', fontsize=12)\n",
    "plt.axvline(pm25['pollutant_avg'].mean(), color='blue', linestyle='dashed', linewidth=2, label=f\"Mean: {pm25['pollutant_avg'].mean():.1f}\")\n",
    "plt.legend()\n",
    "plt.tight_layout()\n",
    "plt.show()\n",
    "\n",
    "# Interactive Plotly Histogram\n",
    "fig = px.histogram(pm25, x='pollutant_avg', nbins=30, color_discrete_sequence=['#e67e22'])\n",
    "fig.update_layout(title='Interactive Distribution of PM2.5', xaxis_title='PM2.5 (µg/m³)', yaxis_title='Count')\n",
    "fig.show()"
   ]
  },
  {
   "cell_type": "code",
   "execution_count": null,
   "id": "e29216d4",
   "metadata": {},
   "outputs": [],
   "source": [
    "## Top 10 Most Polluted Cities (by PM2.5)\n",
    "\n",
    "# Calculate city-wise average PM2.5\n",
    "top_cities = pm25.groupby('city')['pollutant_avg'].mean().sort_values(ascending=False).head(10)\n",
    "plt.figure(figsize=(12,7))\n",
    "top_cities.plot(kind='bar', color='#8e44ad', edgecolor='black')\n",
    "plt.title('Top 10 Most Polluted Cities by Average PM2.5', fontsize=16)\n",
    "plt.xlabel('City', fontsize=12)\n",
    "plt.ylabel('Average PM2.5 (µg/m³)', fontsize=12)\n",
    "plt.xticks(rotation=45, ha='right')\n",
    "for i, v in enumerate(top_cities):\n",
    "    plt.text(i, v + 1, f\"{v:.1f}\", ha='center', color='black', fontsize=10)\n",
    "plt.tight_layout()\n",
    "plt.show()\n",
    "\n",
    "# Narrative\n",
    "print(\"These cities stand out as PM2.5 hotspots. What factors might contribute to their high pollution levels? Industrialization, traffic, geography? This invites deeper investigation.\")"
   ]
  },
  {
   "cell_type": "code",
   "execution_count": null,
   "id": "32a30e55",
   "metadata": {},
   "outputs": [],
   "source": [
    "## State-wise PM2.5 Analysis\n",
    "\n",
    "# Calculate state-wise average PM2.5\n",
    "state_pm25 = pm25.groupby('state')['pollutant_avg'].mean().sort_values(ascending=False)\n",
    "plt.figure(figsize=(14,7))\n",
    "state_pm25.plot(kind='bar', color='#16a085', edgecolor='black')\n",
    "plt.title('Average PM2.5 by State', fontsize=16)\n",
    "plt.xlabel('State', fontsize=12)\n",
    "plt.ylabel('Average PM2.5 (µg/m³)', fontsize=12)\n",
    "plt.xticks(rotation=45, ha='right')\n",
    "plt.tight_layout()\n",
    "plt.show()\n",
    "\n",
    "# Narrative\n",
    "print(\"Some states consistently show higher PM2.5 levels. Are these states more urbanized, or do they have unique environmental challenges?\")"
   ]
  },
  {
   "cell_type": "code",
   "execution_count": null,
   "id": "61009fb6",
   "metadata": {},
   "outputs": [],
   "source": [
    "## PM2.5 Trends Over Time (Interactive)\n",
    "\n",
    "# Group by date and plot average PM2.5 over time\n",
    "pm25_time = pm25.groupby('last_update')['pollutant_avg'].mean().reset_index()\n",
    "fig = px.line(pm25_time, x='last_update', y='pollutant_avg', title='Average PM2.5 Over Time (All Cities)', markers=True, line_shape='spline', color_discrete_sequence=['#e74c3c'])\n",
    "fig.update_layout(xaxis_title='Date', yaxis_title='Average PM2.5 (µg/m³)')\n",
    "fig.show()\n",
    "\n",
    "# Narrative\n",
    "print(\"Are there seasonal patterns or sudden spikes in PM2.5? This time series invites us to look for events or policies that may have influenced air quality.\")"
   ]
  },
  {
   "cell_type": "code",
   "execution_count": null,
   "id": "379dbde3",
   "metadata": {},
   "outputs": [],
   "source": [
    "## Correlation Analysis: Min, Max, Avg\n",
    "\n",
    "corr = df[['pollutant_min', 'pollutant_max', 'pollutant_avg']].corr()\n",
    "plt.figure(figsize=(6,4))\n",
    "sns.heatmap(corr, annot=True, cmap='coolwarm', fmt='.2f')\n",
    "plt.title('Correlation Heatmap (Min, Max, Avg)', fontsize=14)\n",
    "plt.tight_layout()\n",
    "plt.show()\n",
    "\n",
    "# Narrative\n",
    "print(\"Strong correlations between min, max, and avg values are expected, but outliers or weak correlations could signal data quality issues or interesting phenomena.\")"
   ]
  },
  {
   "cell_type": "code",
   "execution_count": null,
   "id": "25a57224",
   "metadata": {},
   "outputs": [],
   "source": [
    "## Outlier Detection: PM2.5 (IQR Method)\n",
    "\n",
    "q1 = pm25['pollutant_avg'].quantile(0.25)\n",
    "q3 = pm25['pollutant_avg'].quantile(0.75)\n",
    "iqr = q3 - q1\n",
    "lower = q1 - 1.5 * iqr\n",
    "upper = q3 + 1.5 * iqr\n",
    "outliers = pm25[(pm25['pollutant_avg'] < lower) | (pm25['pollutant_avg'] > upper)]\n",
    "print(f\"Number of PM2.5 outliers: {len(outliers)}\")\n",
    "display(outliers[['city', 'station', 'pollutant_avg']].head(10))\n",
    "\n",
    "# Narrative\n",
    "print(\"Outliers can reveal data entry errors, rare events, or cities facing extreme pollution. Each outlier is a story worth investigating.\")"
   ]
  },
  {
   "cell_type": "code",
   "execution_count": null,
   "id": "345be21a",
   "metadata": {},
   "outputs": [],
   "source": [
    "## Interactive Map: PM2.5 by City\n",
    "\n",
    "# Prepare data for map (average PM2.5 per city, with lat/lon)\n",
    "city_map = pm25.groupby(['city', 'latitude', 'longitude'], as_index=False)['pollutant_avg'].mean()\n",
    "fig = px.scatter_mapbox(city_map, lat='latitude', lon='longitude', size='pollutant_avg', color='pollutant_avg',\n",
    "                        color_continuous_scale='YlOrRd', size_max=20, zoom=4,\n",
    "                        mapbox_style='carto-positron',\n",
    "                        hover_name='city',\n",
    "                        title='Average PM2.5 by City (Map)')\n",
    "fig.show()\n",
    "\n",
    "# Narrative\n",
    "print(\"This map brings the data to life. The size and color of each marker show which cities are struggling most with PM2.5. Geography, wind, and urbanization all play a role.\")"
   ]
  },
  {
   "cell_type": "markdown",
   "id": "fcee2969",
   "metadata": {},
   "source": [
    "## Key Insights & Next Steps\n",
    "\n",
    "**Key Insights:**\n",
    "- Several cities and states face alarmingly high PM2.5 levels, far exceeding safe limits.\n",
    "- Pollution is not evenly distributed—urbanization, industry, and geography matter.\n",
    "- Outliers and spikes in the data may signal events or data quality issues worth further study.\n",
    "- Interactive maps and time series reveal both chronic and acute pollution problems.\n",
    "\n",
    "**Next Steps:**\n",
    "- Investigate causes for the worst-affected cities (policy, industry, traffic, geography).\n",
    "- Build predictive models for air quality forecasting.\n",
    "- Deploy a public dashboard to share findings and raise awareness.\n",
    "- Integrate real-time data for ongoing monitoring.\n",
    "\n",
    "---\n",
    "\n",
    "*Thank you for exploring this data journey with me! As an aspiring data scientist, I believe every dataset is a chance to make a difference. What will you discover next?*"
   ]
  }
 ],
 "metadata": {
  "language_info": {
   "name": "python"
  }
 },
 "nbformat": 4,
 "nbformat_minor": 5
}
